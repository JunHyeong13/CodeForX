{
 "cells": [
  {
   "cell_type": "code",
   "execution_count": null,
   "metadata": {},
   "outputs": [],
   "source": [
    "# tuple의 가장 기본적인 형태. || 작성할 때는 소괄호, 그 안에 데이터에 접근할 때는 대괄호.\n",
    "\n",
    "days = (\"M\", \"O\", \"N\")\n",
    "print(days)\n",
    "\n",
    "# count()함수의 경우 안에 조건을 줄 경우, 그 조건이 몇 개를 가지고 있는지 보여줌. \n",
    "print(days.count(\"M\"))\n",
    "\n",
    "\n",
    "# dictionary의 가장 기본적인 형태 \n",
    "\n",
    "day1 = {'Day' : 'M',\n",
    "        'Name' : 'James',\n",
    "        'Age' : \"14\"}\n",
    "\n",
    "# item()의 경우 딕셔너리 안에 값들은 무엇이 있는지 알려주는 것. \n",
    "print(day1.items())\n",
    "\n",
    "# values()의 경우 key값이 아닌, values는 무엇을 가지고 있는지 보여줌. \n",
    "print(day1.values()) \n",
    "\n",
    "# keys()의 경우, 딕셔너리 안에서의 key값은 무엇인지 보여줌.\n",
    "print(day1.keys())"
   ]
  },
  {
   "cell_type": "code",
   "execution_count": 1,
   "metadata": {},
   "outputs": [
    {
     "name": "stderr",
     "output_type": "stream",
     "text": [
      "C:\\Users\\user\\AppData\\Local\\Temp\\ipykernel_8792\\1576438456.py:2: DeprecationWarning: \n",
      "Pyarrow will become a required dependency of pandas in the next major release of pandas (pandas 3.0),\n",
      "(to allow more performant data types, such as the Arrow string type, and better interoperability with other libraries)\n",
      "but was not found to be installed on your system.\n",
      "If this would cause problems for you,\n",
      "please provide us feedback at https://github.com/pandas-dev/pandas/issues/54466\n",
      "        \n",
      "  import pandas as pd\n"
     ]
    }
   ],
   "source": [
    "import os\n",
    "import pandas as pd\n",
    "import numpy as np"
   ]
  },
  {
   "cell_type": "code",
   "execution_count": 3,
   "metadata": {},
   "outputs": [],
   "source": [
    "out = r\"C:\\\\Users\\\\user\\\\Desktop\\\\C_Group\\\\Each_mean_emotion\\\\\"\n",
    "\n",
    "results = pd.DataFrame(index=['angry', 'disgust', 'fear', 'happy', 'sad', 'surprise', 'neutral'])\n",
    "\n",
    "for week in [\"1W\", \"2W\", \"3W\", \"4W\"]:\n",
    "    for group in [\"C1\", \"C2\", \"C3\", \"C4\"]:\n",
    "        for step in [\"S1\", \"S2\", \"S3\"]:\n",
    "            os.chdir(r\"C:\\\\Users\\\\user\\\\Desktop\\\\C_Group\\\\\")\n",
    "            \n",
    "            read_data = pd.read_excel(f\"Face_{week}_{group}_{step}_emotion_predictions.xlsx\", index_col=0)\n",
    "            \n",
    "            a = np.mean(read_data['angry'])\n",
    "            b = np.mean(read_data['disgust'])\n",
    "            c = np.mean(read_data['fear'])\n",
    "            d = np.mean(read_data['happy'])\n",
    "            e = np.mean(read_data['sad'])\n",
    "            f = np.mean(read_data['surprise'])\n",
    "            g = np.mean(read_data['neutral'])\n",
    "            \n",
    "            # new_df = {\n",
    "            #     f\"{week}_{group}_{step}\" : a,\n",
    "            #     f\"{week}_{group}_{step}\" : b,\n",
    "            #     f\"{week}_{group}_{step}\" : c,\n",
    "            #     f\"{week}_{group}_{step}\" : d,\n",
    "            #     f\"{week}_{group}_{step}\" : e,\n",
    "            #     f\"{week}_{group}_{step}\" : f,\n",
    "            #     f\"{week}_{group}_{step}\" : g,\n",
    "            # }\n",
    "            results[f\"{week}_{group}_{step}\"] = [a, b, c, d, e, f, g]\n",
    "                \n",
    "os.chdir(out)\n",
    "results.to_excel(\"Summary_Emotion_C.xlsx\")"
   ]
  }
 ],
 "metadata": {
  "kernelspec": {
   "display_name": "Python 3",
   "language": "python",
   "name": "python3"
  },
  "language_info": {
   "codemirror_mode": {
    "name": "ipython",
    "version": 3
   },
   "file_extension": ".py",
   "mimetype": "text/x-python",
   "name": "python",
   "nbconvert_exporter": "python",
   "pygments_lexer": "ipython3",
   "version": "3.12.1"
  }
 },
 "nbformat": 4,
 "nbformat_minor": 2
}
