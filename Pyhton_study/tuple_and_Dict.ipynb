{
 "cells": [
  {
   "cell_type": "code",
   "execution_count": 9,
   "metadata": {},
   "outputs": [
    {
     "name": "stdout",
     "output_type": "stream",
     "text": [
      "('M', 'O', 'N')\n",
      "1\n",
      "dict_items([('Day', 'M'), ('Name', 'James'), ('Age', '14')])\n",
      "dict_values(['M', 'James', '14'])\n",
      "dict_keys(['Day', 'Name', 'Age'])\n"
     ]
    }
   ],
   "source": [
    "# tuple의 가장 기본적인 형태. || 작성할 때는 소괄호, 그 안에 데이터에 접근할 때는 대괄호.\n",
    "\n",
    "days = (\"M\", \"O\", \"N\")\n",
    "print(days)\n",
    "\n",
    "# count()함수의 경우 안에 조건을 줄 경우, 그 조건이 몇 개를 가지고 있는지 보여줌. \n",
    "print(days.count(\"M\"))\n",
    "\n",
    "\n",
    "# dictionary의 가장 기본적인 형태 \n",
    "\n",
    "day1 = {'Day' : 'M',\n",
    "        'Name' : 'James',\n",
    "        'Age' : \"14\"}\n",
    "\n",
    "# item()의 경우 딕셔너리 안에 값들은 무엇이 있는지 알려주는 것. \n",
    "print(day1.items())\n",
    "\n",
    "# values()의 경우 key값이 아닌, values는 무엇을 가지고 있는지 보여줌. \n",
    "print(day1.values()) \n",
    "\n",
    "# keys()의 경우, 딕셔너리 안에서의 key값은 무엇인지 보여줌.\n",
    "print(day1.keys())"
   ]
  },
  {
   "cell_type": "code",
   "execution_count": null,
   "metadata": {},
   "outputs": [],
   "source": []
  }
 ],
 "metadata": {
  "kernelspec": {
   "display_name": "Python 3",
   "language": "python",
   "name": "python3"
  },
  "language_info": {
   "codemirror_mode": {
    "name": "ipython",
    "version": 3
   },
   "file_extension": ".py",
   "mimetype": "text/x-python",
   "name": "python",
   "nbconvert_exporter": "python",
   "pygments_lexer": "ipython3",
   "version": "3.12.1"
  }
 },
 "nbformat": 4,
 "nbformat_minor": 2
}
